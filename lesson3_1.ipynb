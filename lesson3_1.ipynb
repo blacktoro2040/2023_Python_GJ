{
 "cells": [
  {
   "cell_type": "code",
   "execution_count": 1,
   "metadata": {},
   "outputs": [
    {
     "data": {
      "text/plain": [
       "1134"
      ]
     },
     "execution_count": 1,
     "metadata": {},
     "output_type": "execute_result"
    }
   ],
   "source": [
    "#使用input() 讓使用者自行輸入數值運算\n",
    "n = int(input('請輸入N的值'))\n",
    "m = int(input('請輸入M的值'))\n",
    "total = n + m\n",
    "total"
   ]
  },
  {
   "cell_type": "code",
   "execution_count": 5,
   "metadata": {},
   "outputs": [
    {
     "name": "stdout",
     "output_type": "stream",
     "text": [
      "3.89 + 5.907 = 9.797\n"
     ]
    }
   ],
   "source": [
    "#eval() 可同時轉換整數以及浮點數\n",
    "n = eval(input('請輸入N的值'))\n",
    "m = eval(input('請輸入M的值'))\n",
    "total = n + m\n",
    "\n",
    "#引數值，將所有運算顯示到螢幕上\n",
    "print(n , '+' , m , \"=\" ,total)"
   ]
  },
  {
   "cell_type": "code",
   "execution_count": 6,
   "metadata": {},
   "outputs": [
    {
     "name": "stdout",
     "output_type": "stream",
     "text": [
      "4.78+8.93=13.71\n"
     ]
    }
   ],
   "source": [
    "#eval() 可同時轉換整數以及浮點數\n",
    "n = eval(input('請輸入N的值'))\n",
    "m = eval(input('請輸入M的值'))\n",
    "total = n + m\n",
    "\n",
    "#字串插補\n",
    "print(f'{n}+{m}={total}')"
   ]
  }
 ],
 "metadata": {
  "kernelspec": {
   "display_name": "Python 3",
   "language": "python",
   "name": "python3"
  },
  "language_info": {
   "codemirror_mode": {
    "name": "ipython",
    "version": 3
   },
   "file_extension": ".py",
   "mimetype": "text/x-python",
   "name": "python",
   "nbconvert_exporter": "python",
   "pygments_lexer": "ipython3",
   "version": "3.10.13"
  }
 },
 "nbformat": 4,
 "nbformat_minor": 2
}
