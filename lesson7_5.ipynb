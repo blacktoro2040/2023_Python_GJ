{
 "cells": [
  {
   "cell_type": "code",
   "execution_count": null,
   "metadata": {},
   "outputs": [],
   "source": [
    "#沒有參數,沒有值出值\n",
    "\n",
    "def sayHello():\n",
    "    print(\"Hello!\")\n",
    "\n",
    "#function可以重覆呼叫\n",
    "sayHello()\n",
    "sayHello()\n",
    "sayHello()"
   ]
  },
  {
   "cell_type": "code",
   "execution_count": null,
   "metadata": {},
   "outputs": [],
   "source": [
    "#function 代表功能\n",
    "#可以邏輯思考變簡單\n",
    "import pyinputplus as pyip\n",
    "import random\n",
    "\n",
    "def playGame():\n",
    "    min = 1\n",
    "    max = 100\n",
    "    count = 0\n",
    "    random_number = random.randint(min,max)\n",
    "    print(random_number)\n",
    "    print(\"==========猜數字遊戲============\")\n",
    "    while True:\n",
    "        keyin = pyip.inputInt(f\"猜數字範圍{min}~{max}:\")\n",
    "        count += 1\n",
    "        print(keyin)\n",
    "        if keyin == random_number:\n",
    "            print(f\"賓果!猜對了,答案是:{random_number}\")\n",
    "            print(f\"您猜了{count}次\")\n",
    "            break\n",
    "        elif keyin > random_number:\n",
    "            print(\"再小一點\")\n",
    "            max = keyin - 1\n",
    "        elif keyin < random_number:\n",
    "            print(\"再大一點\")\n",
    "            min = keyin + 1\n",
    "        print(f\"您已經猜了{count}次\")\n",
    "        print(\"=================\")\n",
    "\n",
    "while(True):\n",
    "    playGame()\n",
    "    is_continue = pyip.inputYesNo(\"請問還要繼續嗎?(y,n)\")\n",
    "    if is_continue != \"yes\":\n",
    "        break\n",
    "print(\"遊戲結束\") "
   ]
  }
 ],
 "metadata": {
  "language_info": {
   "name": "python"
  }
 },
 "nbformat": 4,
 "nbformat_minor": 2
}
