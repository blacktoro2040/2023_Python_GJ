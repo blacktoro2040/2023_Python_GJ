{
 "cells": [
  {
   "cell_type": "code",
   "execution_count": 8,
   "metadata": {},
   "outputs": [],
   "source": [
    "stu1 = {\n",
    "    '姓名':'陳怡伶',\n",
    "    '國文':97,\n",
    "    '數學':88,\n",
    "    }\n",
    "\n",
    "stu2 = {\n",
    "    '姓名':'王怡珊',\n",
    "    '國文':99,\n",
    "    '數學':58,\n",
    "    }"
   ]
  },
  {
   "cell_type": "code",
   "execution_count": 9,
   "metadata": {},
   "outputs": [
    {
     "data": {
      "text/plain": [
       "[{'姓名': '陳怡伶', '國文': 97, '數學': 88}, {'姓名': '王怡珊', '國文': 99, '數學': 58}]"
      ]
     },
     "execution_count": 9,
     "metadata": {},
     "output_type": "execute_result"
    }
   ],
   "source": [
    "students = [stu1,stu2]\n",
    "students"
   ]
  },
  {
   "cell_type": "code",
   "execution_count": 29,
   "metadata": {},
   "outputs": [
    {
     "data": {
      "text/plain": [
       "[{'姓名': '張慧君', '國文': 77, '數學': 71}, {'姓名': '李政白', '國文': 67, '數學': 50}]"
      ]
     },
     "execution_count": 29,
     "metadata": {},
     "output_type": "execute_result"
    }
   ],
   "source": [
    "from random import randint,choices\n",
    "\n",
    "def getStudents()-> list[dict]:\n",
    "    students = []\n",
    "    with open('names.txt',mode='r',encoding='utf-8') as file:\n",
    "        names:str = file.read()\n",
    "    nameList:list[str] = names.split('\\n')\n",
    "    name = choices(nameList,k=2)\n",
    "    for i in range(2):\n",
    "        stu = {\n",
    "            '姓名':name[i],\n",
    "            '國文':randint(45,100),\n",
    "            '數學':randint(45,100),\n",
    "        }\n",
    "        students.append(stu)\n",
    "    return students\n",
    "\n",
    "getStudents()\n"
   ]
  }
 ],
 "metadata": {
  "kernelspec": {
   "display_name": "Python 3",
   "language": "python",
   "name": "python3"
  },
  "language_info": {
   "codemirror_mode": {
    "name": "ipython",
    "version": 3
   },
   "file_extension": ".py",
   "mimetype": "text/x-python",
   "name": "python",
   "nbconvert_exporter": "python",
   "pygments_lexer": "ipython3",
   "version": "3.10.13"
  }
 },
 "nbformat": 4,
 "nbformat_minor": 2
}
