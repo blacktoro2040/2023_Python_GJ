{
 "cells": [
  {
   "cell_type": "code",
   "execution_count": 8,
   "metadata": {},
   "outputs": [],
   "source": [
    "stu1 = {\n",
    "    '姓名':'陳怡伶',\n",
    "    '國文':97,\n",
    "    '數學':88,\n",
    "    }\n",
    "\n",
    "stu2 = {\n",
    "    '姓名':'王怡珊',\n",
    "    '國文':99,\n",
    "    '數學':58,\n",
    "    }"
   ]
  },
  {
   "cell_type": "code",
   "execution_count": 9,
   "metadata": {},
   "outputs": [
    {
     "data": {
      "text/plain": [
       "[{'姓名': '陳怡伶', '國文': 97, '數學': 88}, {'姓名': '王怡珊', '國文': 99, '數學': 58}]"
      ]
     },
     "execution_count": 9,
     "metadata": {},
     "output_type": "execute_result"
    }
   ],
   "source": [
    "students = [stu1,stu2]\n",
    "students"
   ]
  },
  {
   "cell_type": "code",
   "execution_count": 23,
   "metadata": {},
   "outputs": [
    {
     "data": {
      "text/plain": [
       "[{'姓名': '陳怡伶', '國文': 97, '數學': 88}, {'姓名': '陳怡伶', '國文': 97, '數學': 88}]"
      ]
     },
     "execution_count": 23,
     "metadata": {},
     "output_type": "execute_result"
    }
   ],
   "source": [
    "def getStudents()-> list[dict]:\n",
    "    students = []\n",
    "    for i in range(2):\n",
    "        stu = {\n",
    "            '姓名':'陳怡伶',\n",
    "            '國文':97,\n",
    "            '數學':88,\n",
    "        }\n",
    "        students.append(stu)\n",
    "    return students\n",
    "\n",
    "getStudents()\n"
   ]
  }
 ],
 "metadata": {
  "kernelspec": {
   "display_name": "Python 3",
   "language": "python",
   "name": "python3"
  },
  "language_info": {
   "codemirror_mode": {
    "name": "ipython",
    "version": 3
   },
   "file_extension": ".py",
   "mimetype": "text/x-python",
   "name": "python",
   "nbconvert_exporter": "python",
   "pygments_lexer": "ipython3",
   "version": "3.10.13"
  }
 },
 "nbformat": 4,
 "nbformat_minor": 2
}
