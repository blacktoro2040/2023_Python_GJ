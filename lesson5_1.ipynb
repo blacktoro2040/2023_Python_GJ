{
 "cells": [
  {
   "cell_type": "code",
   "execution_count": 5,
   "metadata": {},
   "outputs": [
    {
     "name": "stdout",
     "output_type": "stream",
     "text": [
      "輸入小數點有誤\n",
      "程式結束\n"
     ]
    }
   ],
   "source": [
    "#處理raise Exception\n",
    "try:\n",
    "    m = eval(input('請輸入金額:'))\n",
    "    f = eval(input('請輸入小數點:'))\n",
    "    raise KeyboardInterrupt\n",
    "    print( m )\n",
    "except SyntaxError:\n",
    "    print('輸入小數點有誤')\n",
    "except ValueError:\n",
    "    print('輸入金額有誤')\n",
    "except:\n",
    "    print('不知名的錯誤')\n",
    "\n",
    "print('程式結束')"
   ]
  },
  {
   "cell_type": "code",
   "execution_count": 7,
   "metadata": {},
   "outputs": [
    {
     "name": "stdout",
     "output_type": "stream",
     "text": [
      "56\n",
      "9.5\n",
      "程式結束\n"
     ]
    }
   ],
   "source": [
    "#try except else\n",
    "try:\n",
    "    m = eval(input('請輸入金額:'))\n",
    "    f = eval(input('請輸入小數點:'))\n",
    "except SyntaxError:\n",
    "    print('輸入小數點有誤')\n",
    "except ValueError:\n",
    "    print('輸入金額有誤')\n",
    "except:\n",
    "    print('不知名的錯誤')\n",
    "else:\n",
    "    print( m )\n",
    "    print( f )\n",
    "    \n",
    "print('程式結束')"
   ]
  }
 ],
 "metadata": {
  "kernelspec": {
   "display_name": "Python 3",
   "language": "python",
   "name": "python3"
  },
  "language_info": {
   "codemirror_mode": {
    "name": "ipython",
    "version": 3
   },
   "file_extension": ".py",
   "mimetype": "text/x-python",
   "name": "python",
   "nbconvert_exporter": "python",
   "pygments_lexer": "ipython3",
   "version": "3.10.13"
  }
 },
 "nbformat": 4,
 "nbformat_minor": 2
}
