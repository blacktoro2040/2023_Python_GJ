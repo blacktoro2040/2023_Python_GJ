{
 "cells": [
  {
   "cell_type": "code",
   "execution_count": 1,
   "metadata": {},
   "outputs": [
    {
     "name": "stdout",
     "output_type": "stream",
     "text": [
      "hello world\n"
     ]
    }
   ],
   "source": [
    "print('hello world')"
   ]
  },
  {
   "cell_type": "code",
   "execution_count": 2,
   "metadata": {},
   "outputs": [
    {
     "name": "stdout",
     "output_type": "stream",
     "text": [
      "請是ture的程式區塊\n",
      "大於18\n",
      "程式結束\n"
     ]
    }
   ],
   "source": [
    "#if單向選擇\n",
    "\n",
    "a = 21\n",
    "\n",
    "if a > 18:\n",
    "    print('請是ture的程式區塊')\n",
    "    print('大於18')\n",
    "print('程式結束')  "
   ]
  },
  {
   "cell_type": "code",
   "execution_count": 3,
   "metadata": {},
   "outputs": [
    {
     "name": "stdout",
     "output_type": "stream",
     "text": [
      "程式結束\n"
     ]
    }
   ],
   "source": [
    "a = 17\n",
    "\n",
    "if a > 18:\n",
    "    print('請是ture的程式區塊')\n",
    "    print('大於18')\n",
    "print('程式結束')  "
   ]
  },
  {
   "cell_type": "code",
   "execution_count": 6,
   "metadata": {},
   "outputs": [
    {
     "name": "stdout",
     "output_type": "stream",
     "text": [
      "您已經成年\n",
      "您的年齡為:40\n"
     ]
    }
   ],
   "source": [
    "#雙向選擇\n",
    "\n",
    "age = int(input('請輸入年齡:'))\n",
    "\n",
    "if  age >= 18:\n",
    "    print('您已經成年')\n",
    "else:\n",
    "    print('您尚未成年')\n",
    "\n",
    "print(f'您的年齡為:{age}')\n"
   ]
  },
  {
   "cell_type": "code",
   "execution_count": 24,
   "metadata": {},
   "outputs": [
    {
     "name": "stdout",
     "output_type": "stream",
     "text": [
      "您輸入的起始計算分數不得超過300\n"
     ]
    }
   ],
   "source": [
    "#學生總分為300\n",
    "#特定學生可加分5%\n",
    "#如加分後總分超過300分，以300分為上限\n",
    "\n",
    "nb = int(input('請輸入您的分數(最高300分):'))\n",
    "if nb <= 300:\n",
    "    ok = input('是否符合加分條件?(Y,N)')\n",
    "\n",
    "    if(ok == 'y'):\n",
    "        nb *= 1.05\n",
    "        if nb > 300:\n",
    "            nb = 300\n",
    "            print(f'您的總分為:{int(nb)}')\n",
    "else:\n",
    "    print('您輸入的起始計算分數不得超過300')\n",
    "\n",
    "\n",
    " "
   ]
  }
 ],
 "metadata": {
  "kernelspec": {
   "display_name": "Python 3",
   "language": "python",
   "name": "python3"
  },
  "language_info": {
   "codemirror_mode": {
    "name": "ipython",
    "version": 3
   },
   "file_extension": ".py",
   "mimetype": "text/x-python",
   "name": "python",
   "nbconvert_exporter": "python",
   "pygments_lexer": "ipython3",
   "version": "3.10.13"
  }
 },
 "nbformat": 4,
 "nbformat_minor": 2
}
