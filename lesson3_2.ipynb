{
 "cells": [
  {
   "cell_type": "code",
   "execution_count": 2,
   "metadata": {},
   "outputs": [
    {
     "name": "stdout",
     "output_type": "stream",
     "text": [
      "3數相加值總和值為20\n"
     ]
    }
   ],
   "source": [
    "total = 0\n",
    "value = eval(input('請輸入第1個值:'))\n",
    "total = total + value\n",
    "\n",
    "value = eval(input('請輸入第2個值:'))\n",
    "total = total + value\n",
    "\n",
    "value = eval(input('請輸入第3個值:'))\n",
    "total = total + value\n",
    "\n",
    "print(f'3數相加值總和值為{total}')"
   ]
  },
  {
   "cell_type": "code",
   "execution_count": 3,
   "metadata": {},
   "outputs": [
    {
     "name": "stdout",
     "output_type": "stream",
     "text": [
      "3數相加值總和值為18\n"
     ]
    }
   ],
   "source": [
    "#複合指定運算子\n",
    "#必須先指定total為某一數值才能運算\n",
    "\n",
    "total = 0\n",
    "value = eval(input('請輸入第1個值:'))\n",
    "total += value\n",
    "\n",
    "value = eval(input('請輸入第2個值:'))\n",
    "total += value\n",
    "\n",
    "value = eval(input('請輸入第3個值:'))\n",
    "total += value\n",
    "\n",
    "print(f'3數相加值總和值為{total}')"
   ]
  },
  {
   "cell_type": "code",
   "execution_count": 12,
   "metadata": {},
   "outputs": [
    {
     "name": "stdout",
     "output_type": "stream",
     "text": [
      "對邊:25,斜邊50\n",
      "角度為30.00\n"
     ]
    }
   ],
   "source": [
    "import math\n",
    "#使用數學工具箱\n",
    "\n",
    "side = eval(input('請輸入對邊'))\n",
    "side_2 = eval(input('請輸入斜邊'))\n",
    "\n",
    "radin = math.asin( side / side_2)\n",
    "degre = math.degrees(radin)\n",
    "\n",
    "print(f'對邊:{side},斜邊{side_2}')\n",
    "print(f'角度為{degre:.2f}')"
   ]
  }
 ],
 "metadata": {
  "kernelspec": {
   "display_name": "Python 3",
   "language": "python",
   "name": "python3"
  },
  "language_info": {
   "codemirror_mode": {
    "name": "ipython",
    "version": 3
   },
   "file_extension": ".py",
   "mimetype": "text/x-python",
   "name": "python",
   "nbconvert_exporter": "python",
   "pygments_lexer": "ipython3",
   "version": "3.10.13"
  }
 },
 "nbformat": 4,
 "nbformat_minor": 2
}
